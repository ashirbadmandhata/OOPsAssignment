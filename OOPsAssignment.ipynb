{
  "nbformat": 4,
  "nbformat_minor": 0,
  "metadata": {
    "colab": {
      "provenance": []
    },
    "kernelspec": {
      "name": "python3",
      "display_name": "Python 3"
    },
    "language_info": {
      "name": "python"
    }
  },
  "cells": [
    {
      "cell_type": "markdown",
      "source": [
        "# OOPs Assignment"
      ],
      "metadata": {
        "id": "SGNJ5hKIulwE"
      }
    },
    {
      "cell_type": "markdown",
      "source": [
        "### 1. What is Object-Oriented Programming (OOP)?  \n",
        "Object-Oriented Programming (OOP) is a programming paradigm based on objects and classes. It allows developers to structure programs using real-world entities, promoting modularity, code reusability, and scalability. The four main principles of OOP are **Encapsulation, Inheritance, Polymorphism, and Abstraction**.\n",
        "\n",
        "### 2. What is a class in OOP?  \n",
        "A **class** is a blueprint for creating objects. It defines attributes (variables) and methods (functions) that describe an object’s behavior.  \n",
        "\n",
        "Example:  \n",
        "```python\n",
        "class Car:\n",
        "    def __init__(self, brand, model):\n",
        "        self.brand = brand\n",
        "        self.model = model\n",
        "```\n",
        "\n",
        "### 3. What is an object in OOP?  \n",
        "An **object** is an instance of a class. It represents a real-world entity with state (attributes) and behavior (methods).  \n",
        "\n",
        "Example:  \n",
        "```python\n",
        "car1 = Car(\"Tesla\", \"Model S\")\n",
        "print(car1.brand)  \n",
        "```\n",
        "\n",
        "### 4. What is the difference between abstraction and encapsulation?  \n",
        "- **Abstraction** hides the implementation details and only shows the necessary functionalities. It is implemented using abstract classes and interfaces.  \n",
        "- **Encapsulation** restricts direct access to data by wrapping it inside a class and using getter and setter methods.  \n",
        "\n",
        "Example of **Encapsulation**:  \n",
        "```python\n",
        "class BankAccount:\n",
        "    def __init__(self, balance):\n",
        "        self.__balance = balance  \n",
        "\n",
        "    def deposit(self, amount):\n",
        "        self.__balance += amount\n",
        "\n",
        "    def get_balance(self):\n",
        "        return self.__balance\n",
        "```\n",
        "\n",
        "### 5. What are dunder methods in Python?  \n",
        "Dunder (double underscore) methods, also known as **magic methods**, are special methods in Python that start and end with `__`. These methods define object behavior with built-in operations.  \n",
        "\n",
        "Example:  \n",
        "```python\n",
        "class Person:\n",
        "    def __init__(self, name):\n",
        "        self.name = name\n",
        "\n",
        "    def __str__(self):\n",
        "        return f\"Person: {self.name}\"\n",
        "```\n",
        "\n",
        "### 6. Explain the concept of inheritance in OOP.  \n",
        "**Inheritance** allows a class to acquire properties and methods from another class, promoting code reusability.  \n",
        "\n",
        "Example:  \n",
        "```python\n",
        "class Animal:\n",
        "    def speak(self):\n",
        "        return \"Some sound\"\n",
        "\n",
        "class Dog(Animal):\n",
        "    def speak(self):\n",
        "        return \"Bark\"\n",
        "```\n",
        "\n",
        "### 7. What is polymorphism in OOP?  \n",
        "**Polymorphism** allows different classes to use the same interface while implementing different behaviors.  \n",
        "\n",
        "Example:  \n",
        "```python\n",
        "class Cat:\n",
        "    def speak(self):\n",
        "        return \"Meow\"\n",
        "\n",
        "class Dog:\n",
        "    def speak(self):\n",
        "        return \"Bark\"\n",
        "\n",
        "animals = [Cat(), Dog()]\n",
        "for animal in animals:\n",
        "    print(animal.speak())\n",
        "```\n",
        "\n",
        "### 8. How is encapsulation achieved in Python?  \n",
        "Encapsulation is implemented by using **private variables** (prefixing with `__`) and providing getter and setter methods.\n",
        "\n",
        "### 9. What is a constructor in Python?  \n",
        "A **constructor** is a special method (`__init__()`) called when an object is created.  \n",
        "\n",
        "Example:  \n",
        "```python\n",
        "class Person:\n",
        "    def __init__(self, name):\n",
        "        self.name = name\n",
        "```\n",
        "\n",
        "### 10. What are class and static methods in Python?  \n",
        "- **Class methods (`@classmethod`)** operate on class variables.  \n",
        "- **Static methods (`@staticmethod`)** do not access class or instance variables.  \n",
        "\n",
        "Example:  \n",
        "```python\n",
        "class Example:\n",
        "    value = 10\n",
        "\n",
        "    @classmethod\n",
        "    def class_method(cls):\n",
        "        return cls.value\n",
        "\n",
        "    @staticmethod\n",
        "    def static_method():\n",
        "        return \"I am static\"\n",
        "```\n",
        "\n",
        "### 11. What is method overloading in Python?  \n",
        "Python **does not support traditional method overloading**. Instead, we use default arguments or `*args`.  \n",
        "\n",
        "Example:  \n",
        "```python\n",
        "class Math:\n",
        "    def add(self, a, b=0):\n",
        "        return a + b\n",
        "```\n",
        "\n",
        "### 12. What is method overriding in OOP?  \n",
        "Method overriding occurs when a subclass provides a different implementation of a method inherited from a parent class.  \n",
        "\n",
        "Example:  \n",
        "```python\n",
        "class Parent:\n",
        "    def show(self):\n",
        "        print(\"Parent class\")\n",
        "\n",
        "class Child(Parent):\n",
        "    def show(self):\n",
        "        print(\"Child class\")\n",
        "```\n",
        "\n",
        "### 13. What is a property decorator in Python?  \n",
        "The `@property` decorator makes a method act like an attribute.  \n",
        "\n",
        "Example:  \n",
        "```python\n",
        "class Person:\n",
        "    def __init__(self, name):\n",
        "        self._name = name\n",
        "\n",
        "    @property\n",
        "    def name(self):\n",
        "        return self._name\n",
        "```\n",
        "\n",
        "### 14. Why is polymorphism important in OOP?  \n",
        "Polymorphism increases flexibility and reusability by allowing different classes to be treated as the same type.\n",
        "\n",
        "### 15. What is an abstract class in Python?  \n",
        "An **abstract class** contains at least one abstract method and cannot be instantiated.  \n",
        "\n",
        "Example:  \n",
        "```python\n",
        "from abc import ABC, abstractmethod\n",
        "\n",
        "class Shape(ABC):\n",
        "    @abstractmethod\n",
        "    def area(self):\n",
        "        pass\n",
        "```\n",
        "\n",
        "### 16. What are the advantages of OOP?  \n",
        "- Code reusability  \n",
        "- Modularity  \n",
        "- Scalability  \n",
        "- Maintainability  \n",
        "\n",
        "### 17. What is the difference between a class variable and an instance variable?  \n",
        "- **Class variables** are shared among all instances.  \n",
        "- **Instance variables** are unique to each object.  \n",
        "\n",
        "Example:  \n",
        "```python\n",
        "class Example:\n",
        "    class_var = 10  \n",
        "\n",
        "    def __init__(self, value):\n",
        "        self.instance_var = value  \n",
        "```\n",
        "\n",
        "### 18. What is multiple inheritance in Python?  \n",
        "**Multiple inheritance** allows a class to inherit from multiple parent classes.  \n",
        "\n",
        "Example:  \n",
        "```python\n",
        "class A:\n",
        "    def method_A(self):\n",
        "        print(\"A\")\n",
        "\n",
        "class B:\n",
        "    def method_B(self):\n",
        "        print(\"B\")\n",
        "\n",
        "class C(A, B):\n",
        "    pass\n",
        "```\n",
        "\n",
        "### 19. Explain the purpose of `__str__` and `__repr__` methods in Python.  \n",
        "- `__str__()` → Provides a human-readable string representation.  \n",
        "- `__repr__()` → Used for debugging and developers.  \n",
        "\n",
        "### 20. What is the significance of the `super()` function in Python?  \n",
        "`super()` calls the parent class’s methods.  \n",
        "\n",
        "Example:  \n",
        "```python\n",
        "class Parent:\n",
        "    def greet(self):\n",
        "        print(\"Hello\")\n",
        "\n",
        "class Child(Parent):\n",
        "    def greet(self):\n",
        "        super().greet()\n",
        "        print(\"World\")\n",
        "```\n",
        "\n",
        "### 21. What is the significance of the `__del__` method in Python?  \n",
        "The `__del__()` method is a destructor that gets called when an object is deleted.\n",
        "\n",
        "### 22. What is the difference between `@staticmethod` and `@classmethod` in Python?  \n",
        "- `@staticmethod` does not access class variables.  \n",
        "- `@classmethod` takes `cls` as a parameter and operates on class-level data.\n",
        "\n",
        "### 23. How does polymorphism work in Python with inheritance?  \n",
        "Polymorphism allows different child classes to override methods of a parent class while maintaining the same interface.\n",
        "\n",
        "### 24. What is method chaining in Python OOP?  \n",
        "Method chaining allows multiple method calls on the same object.  \n",
        "\n",
        "Example:  \n",
        "```python\n",
        "class Example:\n",
        "    def method1(self):\n",
        "        print(\"Method 1\")\n",
        "        return self\n",
        "\n",
        "    def method2(self):\n",
        "        print(\"Method 2\")\n",
        "        return self\n",
        "\n",
        "obj = Example().method1().method2()\n",
        "```\n",
        "\n",
        "### 25. What is the purpose of the __call__ method in Python?  \n",
        "The __call__() method allows an object to be called like a function.  \n",
        "\n",
        "Example:  \n",
        "```python\n",
        "class Example:\n",
        "    def __call__(self):\n",
        "        print(\"Object called\")\n",
        "\n",
        "obj = Example()\n",
        "obj()\n",
        "```"
      ],
      "metadata": {
        "id": "7F8Y70v4uuYG"
      }
    },
    {
      "cell_type": "markdown",
      "source": [
        "# Practical Questions And Ans"
      ],
      "metadata": {
        "id": "e4SLc7MBz12h"
      }
    },
    {
      "cell_type": "code",
      "source": [
        "#1. Create a parent class Animal with a method speak() that prints a generic message. Create a child class Dog that overrides the speak() method to print \"Bark!\".\n",
        "class Animal:\n",
        "    def speak(self):\n",
        "        print(\"This animal makes a sound.\")\n",
        "\n",
        "class Dog(Animal):\n",
        "    def speak(self):\n",
        "        print(\"Bark!\")\n",
        "\n",
        "\n",
        "animal = Animal()\n",
        "animal.speak()\n",
        "\n",
        "dog = Dog()\n",
        "dog.speak()\n",
        "\n"
      ],
      "metadata": {
        "colab": {
          "base_uri": "https://localhost:8080/"
        },
        "id": "mGpU1Fioz9LQ",
        "outputId": "e49818de-f370-4217-a5cb-25c46cd7f5ff"
      },
      "execution_count": null,
      "outputs": [
        {
          "output_type": "stream",
          "name": "stdout",
          "text": [
            "This animal makes a sound.\n",
            "Bark!\n"
          ]
        }
      ]
    },
    {
      "cell_type": "code",
      "source": [
        "#2.  Write a program to create an abstract class Shape with a method area(). Derive classes Circle and Rectangle from it and implement the area() method in both\n",
        "from abc import ABC, abstractmethod\n",
        "import math\n",
        "\n",
        "class Shape(ABC):\n",
        "    @abstractmethod\n",
        "    def area(self):\n",
        "        pass\n",
        "\n",
        "class Circle(Shape):\n",
        "    def __init__(self, radius):\n",
        "        self.radius = radius\n",
        "\n",
        "    def area(self):\n",
        "        return math.pi * self.radius ** 2\n",
        "\n",
        "class Rectangle(Shape):\n",
        "    def __init__(self, length, width):\n",
        "        self.length = length\n",
        "        self.width = width\n",
        "\n",
        "    def area(self):\n",
        "        return self.length * self.width\n",
        "\n",
        "circle = Circle(5)\n",
        "rectangle = Rectangle(3, 6)\n",
        "\n",
        "print(\"Circle Area:\", circle.area())\n",
        "print(\"Rectangle Area:\", rectangle.area())\n"
      ],
      "metadata": {
        "colab": {
          "base_uri": "https://localhost:8080/"
        },
        "id": "h9mOqG2b0bc5",
        "outputId": "cad1e103-39f5-4577-96ab-ceb1f08f5bbc"
      },
      "execution_count": null,
      "outputs": [
        {
          "output_type": "stream",
          "name": "stdout",
          "text": [
            "Circle Area: 78.53981633974483\n",
            "Rectangle Area: 18\n"
          ]
        }
      ]
    },
    {
      "cell_type": "code",
      "source": [
        "#3.  Implement a multi-level inheritance scenario where a class Vehicle has an attribute type. Derive a class Car and further derive a class ElectricCar that adds a battery attribute\n",
        "# Base class\n",
        "class Vehicle:\n",
        "    def __init__(self, type):\n",
        "        self.type = type\n",
        "\n",
        "    def show_type(self):\n",
        "        print(f\"Vehicle Type: {self.type}\")\n",
        "\n",
        "\n",
        "class Car(Vehicle):\n",
        "    def __init__(self, type, brand):\n",
        "        super().__init__(type)\n",
        "        self.brand = brand\n",
        "\n",
        "    def show_brand(self):\n",
        "        print(f\"Car Brand: {self.brand}\")\n",
        "\n",
        "\n",
        "class ElectricCar(Car):\n",
        "    def __init__(self, type, brand, battery_capacity):\n",
        "        super().__init__(type, brand)\n",
        "        self.battery_capacity = battery_capacity\n",
        "\n",
        "    def show_battery(self):\n",
        "        print(f\"Battery Capacity: {self.battery_capacity} kWh\")\n",
        "\n",
        "\n",
        "tesla = ElectricCar(\"5seater\", \"TATA\", 75)\n",
        "tesla.show_type()\n",
        "tesla.show_brand()\n",
        "tesla.show_battery()\n"
      ],
      "metadata": {
        "colab": {
          "base_uri": "https://localhost:8080/"
        },
        "id": "K_vWkmWO1MDE",
        "outputId": "e172025c-23dd-40eb-b4eb-957e32b0a07c"
      },
      "execution_count": null,
      "outputs": [
        {
          "output_type": "stream",
          "name": "stdout",
          "text": [
            "Vehicle Type: 5seater\n",
            "Car Brand: TATA\n",
            "Battery Capacity: 75 kWh\n"
          ]
        }
      ]
    },
    {
      "cell_type": "code",
      "source": [
        "#4. . Implement a multi-level inheritance scenario where a class Vehicle has an attribute type. Derive a class Car and further derive a class ElectricCar that adds a battery attribute.\n",
        "class Vehicle:\n",
        "    def __init__(self, type):\n",
        "        self.type = type\n",
        "\n",
        "    def show_type(self):\n",
        "        print(f\"Vehicle Type: {self.type}\")\n",
        "\n",
        "\n",
        "class Car(Vehicle):\n",
        "    def __init__(self, type, brand):\n",
        "        super().__init__(type)\n",
        "        self.brand = brand\n",
        "\n",
        "    def show_brand(self):\n",
        "        print(f\"Car Brand: {self.brand}\")\n",
        "\n",
        "\n",
        "class ElectricCar(Car):\n",
        "    def __init__(self, type, brand, battery_capacity):\n",
        "        super().__init__(type, brand)\n",
        "        self.battery_capacity = battery_capacity\n",
        "\n",
        "    def show_battery(self):\n",
        "        print(f\"Battery Capacity: {self.battery_capacity} kWh\")\n",
        "\n",
        "\n",
        "tesla = ElectricCar(\"Electric\", \"TATA\", 75)\n",
        "tesla.show_type()\n",
        "tesla.show_brand()\n",
        "tesla.show_battery()\n"
      ],
      "metadata": {
        "colab": {
          "base_uri": "https://localhost:8080/"
        },
        "id": "tCIxdA6E164v",
        "outputId": "7544c5bd-4c11-4611-ca70-344d98579bfc"
      },
      "execution_count": null,
      "outputs": [
        {
          "output_type": "stream",
          "name": "stdout",
          "text": [
            "Vehicle Type: Electric\n",
            "Car Brand: TATA\n",
            "Battery Capacity: 75 kWh\n"
          ]
        }
      ]
    },
    {
      "cell_type": "code",
      "source": [
        "#5.Write a program to demonstrate encapsulation by creating a class BankAccount with private attributes balance and methods to deposit, withdraw, and check balance.\n",
        "class BankAccount:\n",
        "    def __init__(self, account_holder, initial_balance=0):\n",
        "        self.account_holder = account_holder\n",
        "        self.__balance = initial_balance\n",
        "\n",
        "\n",
        "    def deposit(self, amount):\n",
        "        if amount > 0:\n",
        "            self.__balance += amount\n",
        "            print(f\"Deposited: ₹{amount:.2f}\")\n",
        "        else:\n",
        "            print(\"Deposit amount must be positive.\")\n",
        "\n",
        "\n",
        "    def withdraw(self, amount):\n",
        "        if 0 < amount <= self.__balance:\n",
        "            self.__balance -= amount\n",
        "            print(f\"Withdrawn: ₹{amount:.2f}\")\n",
        "        else:\n",
        "            print(\"Insufficient balance or invalid amount.\")\n",
        "\n",
        "\n",
        "    def check_balance(self):\n",
        "        print(f\"Available balance: ₹{self.__balance:.2f}\")\n",
        "\n",
        "account = BankAccount(\"John Doe\", 1000)\n",
        "\n",
        "account.check_balance()\n",
        "account.deposit(500)\n",
        "account.withdraw(300)\n",
        "account.check_balance()\n",
        "print(f\"Accessing private balance using name mangling: ₹{account._BankAccount__balance:.2f}\")\n"
      ],
      "metadata": {
        "id": "xAn3YkhY3Al4",
        "colab": {
          "base_uri": "https://localhost:8080/"
        },
        "outputId": "bd252460-8219-4761-d6e0-574c5a71a49f"
      },
      "execution_count": 1,
      "outputs": [
        {
          "output_type": "stream",
          "name": "stdout",
          "text": [
            "Available balance: ₹1000.00\n",
            "Deposited: ₹500.00\n",
            "Withdrawn: ₹300.00\n",
            "Available balance: ₹1200.00\n",
            "Accessing private balance using name mangling: ₹1200.00\n"
          ]
        }
      ]
    },
    {
      "cell_type": "code",
      "source": [
        "#6. Demonstrate runtime polymorphism using a method play() in a base class Instrument. Derive classes Guitar and Piano that implement their own version of play().\n",
        "\n",
        "class Instrument:\n",
        "    def play(self):\n",
        "        print(\"Playing an instrument.\")\n",
        "\n",
        "\n",
        "class Guitar(Instrument):\n",
        "    def play(self):\n",
        "        print(\"Strumming the guitar!\")\n",
        "\n",
        "class Piano(Instrument):\n",
        "    def play(self):\n",
        "        print(\"Playing the piano keys!\")\n",
        "\n",
        "def play_instrument(instrument):\n",
        "    instrument.play()\n",
        "\n",
        "guitar = Guitar()\n",
        "piano = Piano()\n",
        "\n",
        "play_instrument(guitar)\n",
        "play_instrument(piano)\n"
      ],
      "metadata": {
        "colab": {
          "base_uri": "https://localhost:8080/"
        },
        "id": "_Ny4mnIDdTvL",
        "outputId": "271746db-7e1d-47f9-f879-0e39b9eef7f8"
      },
      "execution_count": 2,
      "outputs": [
        {
          "output_type": "stream",
          "name": "stdout",
          "text": [
            "Strumming the guitar!\n",
            "Playing the piano keys!\n"
          ]
        }
      ]
    },
    {
      "cell_type": "code",
      "source": [
        "#7. Create a class MathOperations with a class method add_numbers() to add two numbers and a static method subtract_numbers() to subtract two numbers.\n",
        "class MathOperations:\n",
        "\n",
        "    @classmethod\n",
        "    def add_numbers(cls, a, b):\n",
        "        return a + b\n",
        "\n",
        "\n",
        "    @staticmethod\n",
        "    def subtract_numbers(a, b):\n",
        "        return a - b\n",
        "\n",
        "sum_result = MathOperations.add_numbers(10, 5)\n",
        "diff_result = MathOperations.subtract_numbers(10, 5)\n",
        "\n",
        "print(f\"Sum: {sum_result}\")\n",
        "print(f\"Difference: {diff_result}\")\n",
        "\n"
      ],
      "metadata": {
        "colab": {
          "base_uri": "https://localhost:8080/"
        },
        "id": "1gdLBcMPeAQh",
        "outputId": "158b6a08-d7c5-4456-c03c-1427536a1aad"
      },
      "execution_count": 3,
      "outputs": [
        {
          "output_type": "stream",
          "name": "stdout",
          "text": [
            "Sum: 15\n",
            "Difference: 5\n"
          ]
        }
      ]
    },
    {
      "cell_type": "code",
      "source": [
        "#8.  Implement a class Person with a class method to count the total number of persons created.\n",
        "class Person:\n",
        "\n",
        "    person_count = 0\n",
        "\n",
        "    def __init__(self, name):\n",
        "        self.name = name\n",
        "        Person.person_count += 1\n",
        "\n",
        "    @classmethod\n",
        "    def total_persons(cls):\n",
        "        return cls.person_count\n",
        "\n",
        "\n",
        "person1 = Person(\"Ashis\")\n",
        "person2 = Person(\"Bob\")\n",
        "person3 = Person(\"Charlie\")\n",
        "\n",
        "print(f\"Total persons created: {Person.total_persons()}\")"
      ],
      "metadata": {
        "colab": {
          "base_uri": "https://localhost:8080/"
        },
        "id": "Mg6JmGuieqvo",
        "outputId": "2bf07a11-f50d-497c-b34c-fd1fb59dd47f"
      },
      "execution_count": 5,
      "outputs": [
        {
          "output_type": "stream",
          "name": "stdout",
          "text": [
            "Total persons created: 3\n"
          ]
        }
      ]
    },
    {
      "cell_type": "code",
      "source": [
        "#9. Write a class Fraction with attributes numerator and denominator. Override the str method to display the fraction as \"numerator/denominator\"\n",
        "class Fraction:\n",
        "    def __init__(self, numerator, denominator):\n",
        "        if denominator == 0:\n",
        "            raise ValueError(\"Denominator cannot be zero.\")\n",
        "        self.numerator = numerator\n",
        "        self.denominator = denominator\n",
        "\n",
        "    def __str__(self):\n",
        "        return f\"{self.numerator}/{self.denominator}\"\n",
        "\n",
        "\n",
        "frac1 = Fraction(3, 4)\n",
        "frac2 = Fraction(5, 8)\n",
        "\n",
        "\n",
        "print(frac1)\n",
        "print(frac2)\n"
      ],
      "metadata": {
        "colab": {
          "base_uri": "https://localhost:8080/"
        },
        "id": "0KU2wKM4fhKm",
        "outputId": "e28701a9-3c58-4c51-b238-4515e8502a21"
      },
      "execution_count": 6,
      "outputs": [
        {
          "output_type": "stream",
          "name": "stdout",
          "text": [
            "3/4\n",
            "5/8\n"
          ]
        }
      ]
    },
    {
      "cell_type": "code",
      "source": [
        "#10.  Demonstrate operator overloading by creating a class Vector and overriding the add method to add two vectors.\n",
        "class Vector:\n",
        "    def __init__(self, x, y):\n",
        "        self.x = x\n",
        "        self.y = y\n",
        "\n",
        "    def __add__(self, other):\n",
        "        return Vector(self.x + other.x, self.y + other.y)\n",
        "\n",
        "    def __str__(self):\n",
        "        return f\"({self.x}, {self.y})\"\n",
        "\n",
        "v1 = Vector(3, 4)\n",
        "v2 = Vector(1, 2)\n",
        "v3 = v1 + v2\n",
        "\n",
        "print(v3)\n"
      ],
      "metadata": {
        "colab": {
          "base_uri": "https://localhost:8080/"
        },
        "id": "fKaJsRUDgKgv",
        "outputId": "fdad3746-1de1-4b7f-c20d-51f616bd0285"
      },
      "execution_count": 7,
      "outputs": [
        {
          "output_type": "stream",
          "name": "stdout",
          "text": [
            "(4, 6)\n"
          ]
        }
      ]
    },
    {
      "cell_type": "code",
      "source": [
        "#11. Create a class Person with attributes name and age. Add a method greet() that prints \"Hello, my name is {name} and I am {age} years old.\"\n",
        "class Person:\n",
        "    def __init__(self, name, age):\n",
        "        self.name = name\n",
        "        self.age = age\n",
        "\n",
        "    def greet(self):\n",
        "        print(f\"Hello, my name is {self.name} and I am {self.age} years old.\")\n",
        "\n",
        "person1 = Person(\"Ashis\", 25)\n",
        "person2 = Person(\"Anu\", 30)\n",
        "\n",
        "person1.greet()\n",
        "person2.greet()\n"
      ],
      "metadata": {
        "colab": {
          "base_uri": "https://localhost:8080/"
        },
        "id": "5Gb-Oh1CgdOb",
        "outputId": "4be5a11b-0a7e-4169-b939-4c3344800e11"
      },
      "execution_count": 8,
      "outputs": [
        {
          "output_type": "stream",
          "name": "stdout",
          "text": [
            "Hello, my name is Ashis and I am 25 years old.\n",
            "Hello, my name is Anu and I am 30 years old.\n"
          ]
        }
      ]
    },
    {
      "cell_type": "code",
      "source": [
        "#12.  Implement a class Student with attributes name and grades. Create a method average_grade() to compute the average of the grades.\n",
        "class Student:\n",
        "    def __init__(self, name, grades):\n",
        "        self.name = name\n",
        "        self.grades = grades\n",
        "\n",
        "    def average_grade(self):\n",
        "        return sum(self.grades) / len(self.grades) if self.grades else 0\n",
        "\n",
        "student1 = Student(\"Ashis\", [85, 90, 78, 92])\n",
        "student2 = Student(\"Bob\", [88, 76, 95, 89])\n",
        "\n",
        "print(f\"{student1.name}'s Average Grade: {student1.average_grade():.2f}\")\n",
        "print(f\"{student2.name}'s Average Grade: {student2.average_grade():.2f}\")\n"
      ],
      "metadata": {
        "colab": {
          "base_uri": "https://localhost:8080/"
        },
        "id": "B3KqP3NHg1Z9",
        "outputId": "f3dad888-8030-4e9d-c49c-4a993ef28d4c"
      },
      "execution_count": 9,
      "outputs": [
        {
          "output_type": "stream",
          "name": "stdout",
          "text": [
            "Ashis's Average Grade: 86.25\n",
            "Bob's Average Grade: 87.00\n"
          ]
        }
      ]
    },
    {
      "cell_type": "code",
      "source": [
        "#13.  Create a class Rectangle with methods set_dimensions() to set the dimensions and area() to calculate the area.\n",
        "class Rectangle:\n",
        "    def __init__(self):\n",
        "        self.length = 0\n",
        "        self.width = 0\n",
        "\n",
        "    def set_dimensions(self, length, width):\n",
        "        self.length = length\n",
        "        self.width = width\n",
        "\n",
        "    def area(self):\n",
        "        return self.length * self.width\n",
        "\n",
        "rect = Rectangle()\n",
        "rect.set_dimensions(5, 10)\n",
        "\n",
        "print(f\"Area of the rectangle: {rect.area()}\")\n"
      ],
      "metadata": {
        "colab": {
          "base_uri": "https://localhost:8080/"
        },
        "id": "iPkwpPkuhMcn",
        "outputId": "6f6aacae-9986-465e-d3de-967d3e3d3d27"
      },
      "execution_count": 10,
      "outputs": [
        {
          "output_type": "stream",
          "name": "stdout",
          "text": [
            "Area of the rectangle: 50\n"
          ]
        }
      ]
    },
    {
      "cell_type": "code",
      "source": [
        "#14. Create a class Employee with a method calculate_salary() that computes the salary based on hours worked and hourly rate. Create a derived class Manager that adds a bonus to the salary\n",
        "class Employee:\n",
        "    def __init__(self, name, hours_worked, hourly_rate):\n",
        "        self.name = name\n",
        "        self.hours_worked = hours_worked\n",
        "        self.hourly_rate = hourly_rate\n",
        "\n",
        "    def calculate_salary(self):\n",
        "        return self.hours_worked * self.hourly_rate\n",
        "\n",
        "class Manager(Employee):\n",
        "    def __init__(self, name, hours_worked, hourly_rate, bonus):\n",
        "        super().__init__(name, hours_worked, hourly_rate)\n",
        "        self.bonus = bonus\n",
        "\n",
        "    def calculate_salary(self):\n",
        "        return super().calculate_salary() + self.bonus\n",
        "\n",
        "emp = Employee(\"Ashis\", 40, 20)\n",
        "mgr = Manager(\"Babu\", 40, 30, 500)\n",
        "\n",
        "print(f\"{emp.name}'s Salary: {emp.calculate_salary()}\")\n",
        "print(f\"{mgr.name}'s Salary: {mgr.calculate_salary()}\")\n"
      ],
      "metadata": {
        "colab": {
          "base_uri": "https://localhost:8080/"
        },
        "id": "2IJBiKcMhcul",
        "outputId": "2269406e-0d2e-4c30-8f78-5518e2affb63"
      },
      "execution_count": 11,
      "outputs": [
        {
          "output_type": "stream",
          "name": "stdout",
          "text": [
            "Ashis's Salary: 800\n",
            "Babu's Salary: 1700\n"
          ]
        }
      ]
    },
    {
      "cell_type": "code",
      "source": [
        "#15. Create a class Product with attributes name, price, and quantity. Implement a method total_price() that calculates the total price of the product\n",
        "class Product:\n",
        "    def __init__(self, name, price, quantity):\n",
        "        self.name = name\n",
        "        self.price = price\n",
        "        self.quantity = quantity\n",
        "\n",
        "    def total_price(self):\n",
        "        return self.price * self.quantity\n",
        "\n",
        "product1 = Product(\"Laptop\", 50000, 2)\n",
        "product2 = Product(\"Smartphone\", 20000, 3)\n",
        "\n",
        "print(f\"Total price of {product1.name}: ₹{product1.total_price()}\")\n",
        "print(f\"Total price of {product2.name}: ₹{product2.total_price()}\")\n",
        "\n"
      ],
      "metadata": {
        "colab": {
          "base_uri": "https://localhost:8080/"
        },
        "id": "5DNSCIdZhuCo",
        "outputId": "b35614f2-6cc4-4983-b74a-c51951772392"
      },
      "execution_count": 12,
      "outputs": [
        {
          "output_type": "stream",
          "name": "stdout",
          "text": [
            "Total price of Laptop: ₹100000\n",
            "Total price of Smartphone: ₹60000\n"
          ]
        }
      ]
    },
    {
      "cell_type": "code",
      "source": [
        "#16.  Create a class Animal with an abstract method sound(). Create two derived classes Cow and Sheep that implement the sound() method\n",
        "from abc import ABC, abstractmethod\n",
        "\n",
        "class Animal(ABC):\n",
        "    @abstractmethod\n",
        "    def sound(self):\n",
        "        pass\n",
        "\n",
        "class Cow(Animal):\n",
        "    def sound(self):\n",
        "        return \"Moo\"\n",
        "\n",
        "class Sheep(Animal):\n",
        "    def sound(self):\n",
        "        return \"Baa\"\n",
        "\n",
        "cow = Cow()\n",
        "sheep = Sheep()\n",
        "\n",
        "print(f\"Cow Sound: {cow.sound()}\")\n",
        "print(f\"Sheep Sound: {sheep.sound()}\")\n"
      ],
      "metadata": {
        "colab": {
          "base_uri": "https://localhost:8080/"
        },
        "id": "0HURl-rvh9E5",
        "outputId": "5e5c2bf3-90db-4c20-ac53-8156a7d03ae8"
      },
      "execution_count": 13,
      "outputs": [
        {
          "output_type": "stream",
          "name": "stdout",
          "text": [
            "Cow Sound: Moo\n",
            "Sheep Sound: Baa\n"
          ]
        }
      ]
    },
    {
      "cell_type": "code",
      "source": [
        "#17. Create a class Book with attributes title, author, and year_published. Add a method get_book_info() that returns a formatted string with the book's details.\n",
        "class Book:\n",
        "    def __init__(self, title, author, year_published):\n",
        "        self.title = title\n",
        "        self.author = author\n",
        "        self.year_published = year_published\n",
        "\n",
        "    def get_book_info(self):\n",
        "        return f\"'{self.title}' by {self.author}, published in {self.year_published}.\"\n",
        "\n",
        "book1 = Book(\"Rdsharma\", \"ABC\", 1925)\n",
        "book2 = Book(\"To Kill a Mockingbird\", \"Harper Lee\", 1960)\n",
        "\n",
        "print(book1.get_book_info())\n",
        "print(book2.get_book_info())\n"
      ],
      "metadata": {
        "colab": {
          "base_uri": "https://localhost:8080/"
        },
        "id": "_SpfKNSeiT4b",
        "outputId": "c271ae00-b698-4155-cb87-dbc8db30c480"
      },
      "execution_count": 14,
      "outputs": [
        {
          "output_type": "stream",
          "name": "stdout",
          "text": [
            "'Rdsharma' by ABC, published in 1925.\n",
            "'To Kill a Mockingbird' by Harper Lee, published in 1960.\n"
          ]
        }
      ]
    },
    {
      "cell_type": "code",
      "source": [
        "#18. Create a class House with attributes address and price. Create a derived class Mansion that adds an attribute number_of_rooms.\n",
        "class House:\n",
        "    def __init__(self, address, price):\n",
        "        self.address = address\n",
        "        self.price = price\n",
        "\n",
        "    def get_info(self):\n",
        "        return f\"Address: {self.address}, Price: ₹{self.price}\"\n",
        "\n",
        "class Mansion(House):\n",
        "    def __init__(self, address, price, number_of_rooms):\n",
        "        super().__init__(address, price)\n",
        "        self.number_of_rooms = number_of_rooms\n",
        "\n",
        "    def get_info(self):\n",
        "        return f\"Address: {self.address}, Price: ₹{self.price}, Rooms: {self.number_of_rooms}\"\n",
        "\n",
        "house = House(\"123 Main Street\", 5000000)\n",
        "mansion = Mansion(\"Luxury Avenue, Beverly Hills\", 50000000, 10)\n",
        "\n",
        "print(house.get_info())\n",
        "print(mansion.get_info())\n"
      ],
      "metadata": {
        "colab": {
          "base_uri": "https://localhost:8080/"
        },
        "id": "x0CKSq3fiyk5",
        "outputId": "9927bf33-cfc1-4b25-8cf0-d4f22980d2b1"
      },
      "execution_count": 15,
      "outputs": [
        {
          "output_type": "stream",
          "name": "stdout",
          "text": [
            "Address: 123 Main Street, Price: ₹5000000\n",
            "Address: Luxury Avenue, Beverly Hills, Price: ₹50000000, Rooms: 10\n"
          ]
        }
      ]
    }
  ]
}